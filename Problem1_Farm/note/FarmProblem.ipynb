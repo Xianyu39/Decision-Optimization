{
 "cells": [
  {
   "cell_type": "markdown",
   "source": [
    "# Problem Description\r\n",
    "Click [here](https://code.aliyun.com/mindopt001/mindopt-open-examples/blob/master/doc/example_1.md?spm=5176.21102998.J_6338734050.1.637f5e8dfU1WxM&file=example_1.md)."
   ],
   "metadata": {}
  },
  {
   "cell_type": "markdown",
   "source": [
    "# About\r\n",
    "- Enviroment: Anaconda, python 3.8.10 64-bit, Windows 10.\r\n",
    "- Using main algorithm: Taboo search."
   ],
   "metadata": {}
  },
  {
   "cell_type": "markdown",
   "source": [
    "## Solution Form\r\n",
    "The best form for solutions is a numpy matrix. Considering the possible modification in the future, I wrapped it with `class solution`."
   ],
   "metadata": {}
  },
  {
   "cell_type": "code",
   "execution_count": null,
   "source": [
    "import numpy as np\r\n",
    "\r\n",
    "class solution(np.ndarray):\r\n",
    "    pass"
   ],
   "outputs": [],
   "metadata": {}
  }
 ],
 "metadata": {
  "orig_nbformat": 4,
  "language_info": {
   "name": "python",
   "version": "3.8.10"
  },
  "kernelspec": {
   "name": "python3",
   "display_name": "Python 3.8.10 64-bit ('Py38': conda)"
  },
  "interpreter": {
   "hash": "b28d030d82f7dd786d763e2dccbaf013213deda1c4403ca7e4dab6ad421c7e0c"
  }
 },
 "nbformat": 4,
 "nbformat_minor": 2
}