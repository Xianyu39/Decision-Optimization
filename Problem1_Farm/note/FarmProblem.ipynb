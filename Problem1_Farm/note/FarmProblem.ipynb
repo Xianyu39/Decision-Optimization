{
 "cells": [
  {
   "cell_type": "markdown",
   "source": [
    "# Problem Description\r\n",
    "Click [here](https://code.aliyun.com/mindopt001/mindopt-open-examples/blob/master/doc/example_1.md?spm=5176.21102998.J_6338734050.1.637f5e8dfU1WxM&file=example_1.md)."
   ],
   "metadata": {}
  },
  {
   "cell_type": "markdown",
   "source": [
    "# About\r\n",
    "- Enviroment: Anaconda, python 3.8.10 64-bit, Windows 10.\r\n",
    "- Using main algorithm: Taboo search."
   ],
   "metadata": {}
  },
  {
   "cell_type": "markdown",
   "source": [
    "## Solution Form\r\n",
    "The best form for solutions is a numpy matrix. Considering the possible modification in the future, I wrapped it with `class solution`."
   ],
   "metadata": {}
  },
  {
   "cell_type": "code",
   "execution_count": null,
   "source": [
    "import numpy as np\r\n",
    "\r\n",
    "class solution(np.ndarray):\r\n",
    "    pass\r\n",
    "\r\n",
    "# Initialization\r\n",
    "sl = solution(np.arange(1, 10, 1))\r\n"
   ],
   "outputs": [],
   "metadata": {}
  },
  {
   "cell_type": "markdown",
   "source": [
    "# Adjacent Solution Generator\r\n",
    "As the lands and plants both have the upper bound, it's nessesary to adjust the solutions to make them valid.\r\n",
    "We will generate 4 solutions each time, Each solution was from the base solution after change one row's values randomly.\r\n",
    "So, I generated a row of random values with -1, 0 and 1 in every iteration, and accumulated it in the row.\r\n",
    "```cpp\r\n",
    "    def adjacentSolution(self, x:solution)->tuple:\r\n",
    "        adjSolutionSet = []\r\n",
    "        rowChange = np.array(x[0, :])\r\n",
    "\r\n",
    "        for i in range(self.rows):\r\n",
    "\r\n",
    "            for j in range(self.cols):\r\n",
    "                rowChange[j] = rd.randint(-1, 1)\r\n",
    "\r\n",
    "            tmp = np.array(x)\r\n",
    "            tmp[i] += rowChange\r\n",
    "            adjSolutionSet.append(tmp)\r\n",
    "\r\n",
    "        # Check whether these solutions are valid.\r\n",
    "\r\n",
    "        return tuple(adjSolutionSet)\r\n",
    "```"
   ],
   "metadata": {}
  },
  {
   "cell_type": "code",
   "execution_count": null,
   "source": [],
   "outputs": [],
   "metadata": {}
  }
 ],
 "metadata": {
  "orig_nbformat": 4,
  "language_info": {
   "name": "python",
   "version": "3.8.10"
  },
  "kernelspec": {
   "name": "python3",
   "display_name": "Python 3.8.10 64-bit ('Py38': conda)"
  },
  "interpreter": {
   "hash": "b28d030d82f7dd786d763e2dccbaf013213deda1c4403ca7e4dab6ad421c7e0c"
  }
 },
 "nbformat": 4,
 "nbformat_minor": 2
}